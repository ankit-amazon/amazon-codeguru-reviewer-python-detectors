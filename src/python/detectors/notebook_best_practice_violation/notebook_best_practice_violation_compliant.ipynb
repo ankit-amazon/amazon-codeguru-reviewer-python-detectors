{
 "cells": [
  {
   "attachments": {},
   "cell_type": "markdown",
   "metadata": {},
   "source": [
    "####  Copyright Amazon.com, Inc. or its affiliates. All Rights Reserved.\n",
    "####  SPDX-License-Identifier: Apache-2.0"
   ]
  },
  {
   "cell_type": "code",
   "execution_count": 1,
   "metadata": {},
   "outputs": [],
   "source": [
    "# {fact rule=notebook-best-practice-violation@v1.0 defects=0}\n",
    "# Compliant: cell is not blank. Imports are in place. Cell limit is not exceeding.\n",
    "import numpy as np\n",
    "import pandas as pd"
   ]
  },
  {
   "cell_type": "code",
   "execution_count": null,
   "metadata": {},
   "outputs": [],
   "source": [
    "primary = pd.read_csv('attribute-primary-info.csv', sep='\\t')\n",
    "primary"
   ]
  },
  {
   "cell_type": "code",
   "execution_count": null,
   "metadata": {},
   "outputs": [],
   "source": [
    "alias = pd.read_csv('attribute-alias-info-en_US.csv', sep='\\t')\n",
    "alias\n",
    "# {/fact}"
   ]
  }
 ],
 "metadata": {
  "kernelspec": {
   "display_name": "Python 3",
   "language": "python",
   "name": "python3"
  },
  "language_info": {
   "codemirror_mode": {
    "name": "ipython",
    "version": 3
   },
   "file_extension": ".py",
   "mimetype": "text/x-python",
   "name": "python",
   "nbconvert_exporter": "python",
   "pygments_lexer": "ipython3",
   "version": "3.10.8"
  },
  "orig_nbformat": 4
 },
 "nbformat": 4,
 "nbformat_minor": 2
}
